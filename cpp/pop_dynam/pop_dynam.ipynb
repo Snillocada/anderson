{
 "cells": [
  {
   "cell_type": "code",
   "execution_count": 1,
   "metadata": {},
   "outputs": [],
   "source": [
    "import subprocess\n",
    "from subprocess import PIPE\n",
    "\n",
    "import matplotlib.pyplot as plt\n",
    "import numpy as np"
   ]
  },
  {
   "cell_type": "code",
   "execution_count": 2,
   "metadata": {},
   "outputs": [],
   "source": [
    "# grains = 256\n",
    "# support = 7\n",
    "# population_num = 1000\n",
    "# degree = 3\n",
    "# epsilon = 0.003\n",
    "# disorder = 0.3\n",
    "# x = subprocess.run(\"Debug\\pop_dynam.exe {} {} {} {} {} {}\".format(grains, support, population_num, degree, epsilon, disorder),\n",
    "#                    stdout=PIPE).stdout.decode(\"utf-8\").split(\",\")[:-1]\n",
    "\n",
    "# lambda_vec = np.linspace(-support,support,grains)\n",
    "# mean_vec = [float(i) for i in x]"
   ]
  },
  {
   "cell_type": "code",
   "execution_count": null,
   "metadata": {},
   "outputs": [
    {
     "name": "stdout",
     "output_type": "stream",
     "text": [
      "0\n",
      "1\n",
      "2\n",
      "3\n",
      "4\n",
      "5\n",
      "6\n"
     ]
    }
   ],
   "source": [
    "grains = 256\n",
    "support = 7\n",
    "population_num = 10000\n",
    "degree = 3\n",
    "epsilon = 0.003\n",
    "disorder = 12\n",
    "\n",
    "lambda_vec = np.linspace(-support,support,grains)\n",
    "\n",
    "repeats = 16\n",
    "\n",
    "sum_vec = np.zeros(grains)\n",
    "\n",
    "for p in range(repeats):\n",
    "    x = subprocess.run(\"Debug\\pop_dynam.exe {} {} {} {} {} {}\".format(grains, support, population_num, degree, epsilon, disorder),\n",
    "                       stdout=PIPE).stdout.decode(\"utf-8\").split(\",\")[:-1]\n",
    "\n",
    "    mean_vec = [float(i) for i in x]\n",
    "    sum_vec += np.array(mean_vec)\n",
    "    print(p)\n",
    "    \n",
    "aver_vec = sum_vec/repeats"
   ]
  },
  {
   "cell_type": "code",
   "execution_count": null,
   "metadata": {},
   "outputs": [],
   "source": [
    "# sum_vec = np.zeros(grains)\n",
    "# sum_vec += np.array(mean_vec)\n",
    "# sum_vec += np.array(mean_vec)\n",
    "# sum_vec/2"
   ]
  },
  {
   "cell_type": "code",
   "execution_count": null,
   "metadata": {},
   "outputs": [],
   "source": [
    "plt.plot(lambda_vec, aver_vec)\n",
    "plt.title(\"Population dynamics for RRG disorder = {}, degree {}\".format(disorder, degree))\n",
    "plt.xlabel(\"Lambda\")\n",
    "plt.ylabel(\"Spectral Density\")"
   ]
  },
  {
   "cell_type": "code",
   "execution_count": null,
   "metadata": {},
   "outputs": [],
   "source": []
  }
 ],
 "metadata": {
  "kernelspec": {
   "display_name": "Python 3",
   "language": "python",
   "name": "python3"
  },
  "language_info": {
   "codemirror_mode": {
    "name": "ipython",
    "version": 3
   },
   "file_extension": ".py",
   "mimetype": "text/x-python",
   "name": "python",
   "nbconvert_exporter": "python",
   "pygments_lexer": "ipython3",
   "version": "3.6.4"
  }
 },
 "nbformat": 4,
 "nbformat_minor": 2
}
